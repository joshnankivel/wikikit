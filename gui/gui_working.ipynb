{
 "cells": [
  {
   "cell_type": "code",
   "execution_count": 1,
   "metadata": {},
   "outputs": [],
   "source": [
    "from tkinter import *\n",
    "from tkinter.ttk import *"
   ]
  },
  {
   "cell_type": "code",
   "execution_count": 3,
   "metadata": {},
   "outputs": [],
   "source": [
    "window = Tk()\n",
    "window.title(\"Welcome to my training app\")\n",
    "window.geometry('450x200')\n",
    "\n",
    "lbl = Label(window, text=\"Hello\")\n",
    "lbl.grid(column=0, row=0)\n",
    "\n",
    "txt = Entry(window, width=30)\n",
    "#txt = Entry(window, width=30, state='disabled')\n",
    "txt.grid(column=1, row=0)\n",
    "txt.focus()\n",
    "\n",
    "def clicked():\n",
    "    res = \"Welcome to \" + txt.get()\n",
    "    lbl.configure(text=res)\n",
    "\n",
    "btn = Button(window, text=\"Click Me\", command=clicked)\n",
    "btn.grid(column=2, row=0)\n",
    "\n",
    "combo = Combobox(window, postcommand=selected)\n",
    "combo['values'] = (1,2,3,4,5,\"Text\")\n",
    "combo.grid(column=0, row=2)\n",
    "\n",
    "def selected():\n",
    "    cmbsel = combo.get()\n",
    "    lbl.configure(text=cmbsel)\n",
    "\n",
    "window.mainloop()"
   ]
  },
  {
   "cell_type": "code",
   "execution_count": null,
   "metadata": {},
   "outputs": [],
   "source": []
  }
 ],
 "metadata": {
  "kernelspec": {
   "display_name": "Python 3",
   "language": "python",
   "name": "python3"
  },
  "language_info": {
   "codemirror_mode": {
    "name": "ipython",
    "version": 3
   },
   "file_extension": ".py",
   "mimetype": "text/x-python",
   "name": "python",
   "nbconvert_exporter": "python",
   "pygments_lexer": "ipython3",
   "version": "3.6.6"
  }
 },
 "nbformat": 4,
 "nbformat_minor": 2
}
