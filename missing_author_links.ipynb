{
 "cells": [
  {
   "cell_type": "code",
   "execution_count": null,
   "metadata": {},
   "outputs": [],
   "source": [
    "# My draft logic for the approach is as follows:\n",
    "# 1. Provide a url to a single seed WP page\n",
    "# 2. Crawl that page + 1 level deep for all links from that page to other WP pages\n",
    "# 3. For each page (the seed plus all linked pages) parse the references section for author names which are not linked to an existing WP author page\n",
    "# 4. Identify which author names are exact matches for existing WP pages\n",
    "# 5. Output the list of urls for pages and their respective reference citations which should be reviewed by a human and have authorlink tag(s) added to.\n",
    "# \n",
    "# Seed page to test with, has a citation for Steven Novella writing but not linked to his WP page: https://en.wikipedia.org/wiki/Expanding_Earth\n",
    "\n",
    "# TODO: Crawl linked pages from the seed page and check all of them 1 level deep\n",
    "# TODO: Increase the list of categories to use when building the list of author pages\n",
    "\n",
    "#!pip install wikipedia"
   ]
  },
  {
   "cell_type": "code",
   "execution_count": 1,
   "metadata": {},
   "outputs": [],
   "source": [
    "from utils import wp"
   ]
  },
  {
   "cell_type": "code",
   "execution_count": 2,
   "metadata": {},
   "outputs": [
    {
     "name": "stdout",
     "output_type": "stream",
     "text": [
      "Found 872 authors including Hans Thewissen, Lily Jan, Susan McConnell, Harold Dearden, JacSue Kehoe, Sally Temple, Eric Klann...\n"
     ]
    }
   ],
   "source": [
    "category_list = [\n",
    "    \"American skeptics\",\n",
    "    \"American neuroscientists\",\n",
    "    \"Critics of alternative medicine\",\n",
    "    \"Critics of parapsychology\",\n",
    "    \"Fellows of the Committee for Skeptical Inquiry\",\n",
    "]\n",
    "\n",
    "wp_authors = wp.get_authors(category_list)"
   ]
  },
  {
   "cell_type": "code",
   "execution_count": 4,
   "metadata": {},
   "outputs": [
    {
     "name": "stdout",
     "output_type": "stream",
     "text": [
      "For page 'Expanding Earth' at https://en.wikipedia.org/wiki/Expanding_Earth there is a potential missing authorlink for \n"
     ]
    }
   ],
   "source": [
    "wp.check_page(\"Expanding Earth\", wp_authors)"
   ]
  },
  {
   "cell_type": "code",
   "execution_count": null,
   "metadata": {},
   "outputs": [],
   "source": []
  }
 ],
 "metadata": {
  "kernelspec": {
   "display_name": "Python 3",
   "language": "python",
   "name": "python3"
  },
  "language_info": {
   "codemirror_mode": {
    "name": "ipython",
    "version": 3
   },
   "file_extension": ".py",
   "mimetype": "text/x-python",
   "name": "python",
   "nbconvert_exporter": "python",
   "pygments_lexer": "ipython3",
   "version": "3.6.6"
  }
 },
 "nbformat": 4,
 "nbformat_minor": 2
}
